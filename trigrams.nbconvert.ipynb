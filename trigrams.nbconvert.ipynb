{
 "cells": [
  {
   "cell_type": "code",
   "execution_count": 1,
   "metadata": {
    "execution": {
     "iopub.execute_input": "2024-10-07T15:49:26.696324Z",
     "iopub.status.busy": "2024-10-07T15:49:26.696065Z",
     "iopub.status.idle": "2024-10-07T15:49:26.703730Z",
     "shell.execute_reply": "2024-10-07T15:49:26.703109Z"
    }
   },
   "outputs": [
    {
     "name": "stdout",
     "output_type": "stream",
     "text": [
      "Text files have been read and are now combined.\n"
     ]
    }
   ],
   "source": [
    "# Step 1: Read the selected text files\n",
    "\n",
    "# Define file paths for each of the uploaded texts inside the \"T1Files\" folder\n",
    "file_paths = [\n",
    "    \"T1Files/Hamlet.txt\",\n",
    "    \"T1Files/MacBeth.txt\",\n",
    "    \"T1Files/Romeo&Juliet.txt\",\n",
    "    \"T1Files/TheValley.txt\",\n",
    "    \"T1Files/TheVoiceOfTheVoid.txt\"\n",
    "]\n",
    "\n",
    "# Read each file's content and store them in a list\n",
    "texts = []\n",
    "for file_path in file_paths:\n",
    "    with open(file_path, 'r', encoding='utf-8') as file:\n",
    "        texts.append(file.read())\n",
    "\n",
    "# Combine all texts into one large string for further processing\n",
    "combined_text = \" \".join(texts)\n",
    "print(\"Text files have been read and are now combined.\")\n"
   ]
  }
 ],
 "metadata": {
  "kernelspec": {
   "display_name": "Python 3",
   "language": "python",
   "name": "python3"
  },
  "language_info": {
   "codemirror_mode": {
    "name": "ipython",
    "version": 3
   },
   "file_extension": ".py",
   "mimetype": "text/x-python",
   "name": "python",
   "nbconvert_exporter": "python",
   "pygments_lexer": "ipython3",
   "version": "3.12.1"
  }
 },
 "nbformat": 4,
 "nbformat_minor": 2
}
