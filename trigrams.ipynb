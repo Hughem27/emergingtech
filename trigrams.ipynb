{
 "cells": [
  {
   "cell_type": "markdown",
   "metadata": {},
   "source": [
    "# Trigrams Analysis Notebook\n",
    "\n",
    "## Introduction\n",
    "This notebook aims to \n"
   ]
  },
  {
   "cell_type": "markdown",
   "metadata": {},
   "source": [
    "## Task 1\n",
    "This part of the notebook aims to create a third-order letter approximation model using five English works in Plain Text UTF8 format from Project Gutenberg for my module Emerging Technologies in final year. The task is outlined as follows:\n",
    "\n",
    "Select five free English works in Plain Text UTF8 format from Project Gutenberg. Use them to create a model of the English language as follows. Remove any preamble and postamble. Remove all characters except for (ASCII) letters (uppercase and lowercase), full stops, and spaces. Make all letters uppercase.\n",
    "\n",
    "Next create a trigram model by counting the number of times each sequence of three characters (that is, each trigram) appears. You can design your own data structure for storing the results but explain your design and its rationale in your answer.\n",
    "\n",
    "For example, the sentence: It is what it is. would become IT IS WHAT IT IS. This will give a model like {'IT ': 2, 'T I': 3, ' IS': 2, 'IS ': 1, ...}.\n",
    "\n",
    "I have broken this down to the following steps:\n",
    "\n",
    "1. Selecting five texts from books I have gotten from https://www.gutenberg.org/.\n",
    "2. Cleaning the texts by removing preamble, postamble, and unnecessary characters.\n",
    "3. Converting the texts to uppercase.\n",
    "(Step 3 & 4 are to prepare the file for processing in the trigram model)\n",
    "4. Creating a trigram model by counting sequences of three consecutive characters.\n",
    "\n",
    "Trigrams are sequences of three characters, and the goal is to use trigrams to analyze the structure of the English language. Each trigram's frequency will be recorded to create a model for the English language."
   ]
  },
  {
   "cell_type": "markdown",
   "metadata": {},
   "source": [
    "### Step 1:"
   ]
  },
  {
   "cell_type": "code",
   "execution_count": 14,
   "metadata": {},
   "outputs": [
    {
     "name": "stdout",
     "output_type": "stream",
     "text": [
      "Text files have been read and are now combined.\n"
     ]
    }
   ],
   "source": [
    "# Step 1: Read the selected text files\n",
    "\n",
    "# This code is defining the file paths for the uploaded text files of each book which are inside the \"T1Files\" folder for neatness sake.\n",
    "file_paths = [\n",
    "    \"T1Files/Hamlet.txt\",\n",
    "    \"T1Files/MacBeth.txt\",\n",
    "    \"T1Files/Romeo&Juliet.txt\",\n",
    "    \"T1Files/TheValley.txt\",\n",
    "    \"T1Files/TheVoiceOfTheVoid.txt\"\n",
    "]\n",
    "\n",
    "# This code is reading each file's content and storing them in a list\n",
    "texts = []\n",
    "for file_path in file_paths:\n",
    "    with open(file_path, 'r', encoding='utf-8') as file:\n",
    "        texts.append(file.read())\n",
    "\n",
    "# This code is combining all texts into one large string for processing in the next step.\n",
    "combined_text = \" \".join(texts)\n",
    "print(\"Text files have been read and are now combined.\")\n"
   ]
  },
  {
   "cell_type": "markdown",
   "metadata": {},
   "source": [
    "### Step 2: Cleaning the texts by removing preamble, postamble, and unnecessary characters.\n"
   ]
  },
  {
   "cell_type": "code",
   "execution_count": 15,
   "metadata": {},
   "outputs": [
    {
     "name": "stdout",
     "output_type": "stream",
     "text": [
      "Texts have been cleaned and formatted. Texts are to be changed to uppercase.\n"
     ]
    }
   ],
   "source": [
    "import re\n",
    "\n",
    "# This codes purpose is to clean and format the text by removing preamble, postamble, and unnecessary characters.\n",
    "def clean_and_format_text(text):\n",
    "    # This line of code extracts the content after \"START OF\" and before \"END OF\" markers\n",
    "    start_marker = re.search(r\"\\*\\*\\* START OF .* \\*\\*\\*\", text)\n",
    "    if start_marker:\n",
    "        text = text[start_marker.end():]\n",
    "    \n",
    "    # This code removes unwanted characters as per the requirments (keeping only letters, full stops, and spaces)\n",
    "    cleaned_text = re.sub(r\"[^a-zA-Z. ]\", \"\", text)\n",
    "    \n",
    "    # This code converts all letters to uppercase to fit the requirments\n",
    "    cleaned_text = cleaned_text.upper()\n",
    "\n",
    "    # This code retuns the cleaned text.\n",
    "    return cleaned_text\n",
    "\n",
    "# This code cleans each text file.\n",
    "cleaned_texts = [clean_and_format_text(text) for text in texts]\n",
    "\n",
    "# This code combines all cleaned texts into one large string for trigram analysis\n",
    "cleaned_combined_text = \" \".join(cleaned_texts)\n",
    "print(\"Texts have been cleaned and formatted. Texts are to be changed to uppercase.\")\n"
   ]
  },
  {
   "cell_type": "markdown",
   "metadata": {},
   "source": [
    "### Step 3: Creating the **Trigram** Model\n",
    "\n",
    "A **trigram** is a sequence of three consecutive characters. In this step of the task, we scan through the cleaned text and extract all possible trigrams. Each trigram is then stored in a dictionary, where the key is the trigram stated. The **value** is the number of times its counted in the text.\n",
    "\n"
   ]
  },
  {
   "cell_type": "code",
   "execution_count": 16,
   "metadata": {},
   "outputs": [
    {
     "name": "stdout",
     "output_type": "stream",
     "text": [
      "Trigram model created.\n",
      "\n",
      " Sample trigrams:\n",
      "{'PRO': 922, 'ROJ': 454, 'OJE': 454, 'JEC': 465, 'ECT': 962, 'CT ': 516, 'T G': 498, ' GU': 456, 'GUT': 470, 'UTE': 589}\n"
     ]
    }
   ],
   "source": [
    "# This function generates a trigrams and counts the occurrences.\n",
    "def generate_trigrams(text):\n",
    "    trigram_counts = {}\n",
    "    \n",
    "    # Thhis for loop loops through the text to extract the trigrams.\n",
    "    for i in range(len(text) - 2):\n",
    "        trigram = text[i:i+3]\n",
    "        \n",
    "        # This if statement increments the counts of trigram in the dictionary.\n",
    "        if trigram in trigram_counts:\n",
    "            trigram_counts[trigram] += 1\n",
    "        else:\n",
    "            trigram_counts[trigram] = 1\n",
    "    # Retuns the number of trigrams to trigram_counts\n",
    "    return trigram_counts\n",
    "\n",
    "# The following lines generates trigrams from the cleaned combined text\n",
    "trigram_model = generate_trigrams(cleaned_combined_text)\n",
    "print(\"Trigram model created.\\n\\n Sample trigrams:\")\n",
    "#  Display a sample of the trigrams\n",
    "print(dict(list(trigram_model.items())[:10]))  \n"
   ]
  },
  {
   "cell_type": "markdown",
   "metadata": {},
   "source": [
    "### Step 4: Analyzing the Trigram Model\n",
    "\n",
    "This step is to sort the most frequent trigrams in order to display the most common charecter sequences based on the selected texts."
   ]
  },
  {
   "cell_type": "code",
   "execution_count": 17,
   "metadata": {},
   "outputs": [
    {
     "name": "stdout",
     "output_type": "stream",
     "text": [
      "Top 10 most common trigrams:\n",
      "\n",
      "Trigram: ' TH' - Count: 9695\n",
      "Trigram: 'THE' - Count: 7685\n",
      "Trigram: 'HE ' - Count: 5160\n",
      "Trigram: 'ND ' - Count: 3738\n",
      "Trigram: 'AND' - Count: 3507\n",
      "Trigram: ' AN' - Count: 2945\n",
      "Trigram: '   ' - Count: 2924\n",
      "Trigram: 'IS ' - Count: 2562\n",
      "Trigram: ' TO' - Count: 2560\n",
      "Trigram: ' OF' - Count: 2558\n"
     ]
    }
   ],
   "source": [
    "# Initializing sorted_trigrams to store sorted trigrms by frequency in descending order.\n",
    "sorted_trigrams = sorted(trigram_model.items(), key=lambda x: x[1], reverse=True)\n",
    "\n",
    "# The next line & fore statement print the 10 most common trigrams.\n",
    "print(\"Top 10 most common trigrams:\\n\")\n",
    "for trigram, count in sorted_trigrams[:10]:\n",
    "    print(f\"Trigram: '{trigram}' - Count: {count}\")\n"
   ]
  },
  {
   "cell_type": "markdown",
   "metadata": {},
   "source": [
    "### Step 5: Saving the Trigram Model\n",
    "\n",
    "This step is to save the model and data to file to allow easy access to trigram frequencies without having to recompute them.\n"
   ]
  },
  {
   "cell_type": "code",
   "execution_count": 18,
   "metadata": {},
   "outputs": [
    {
     "name": "stdout",
     "output_type": "stream",
     "text": [
      "Trigram model has been saved to 'trigram_model.txt'.\n"
     ]
    }
   ],
   "source": [
    "# Save the trigram model to a text file.\n",
    "with open(\"trigram_model.txt\", \"w\") as file:\n",
    "    file.write(\"Trigram Model (Trigram: Count)\\n\")\n",
    "    file.write(\"=\" * 30 + \"\\n\")\n",
    "    for trigram, count in sorted_trigrams:\n",
    "        file.write(f\"{trigram}: {count}\\n\")\n",
    "\n",
    "# Print message of print.\n",
    "print(\"Trigram model has been saved to 'trigram_model.txt'.\")\n"
   ]
  }
 ],
 "metadata": {
  "kernelspec": {
   "display_name": "Python 3",
   "language": "python",
   "name": "python3"
  },
  "language_info": {
   "codemirror_mode": {
    "name": "ipython",
    "version": 3
   },
   "file_extension": ".py",
   "mimetype": "text/x-python",
   "name": "python",
   "nbconvert_exporter": "python",
   "pygments_lexer": "ipython3",
   "version": "3.12.1"
  }
 },
 "nbformat": 4,
 "nbformat_minor": 2
}
