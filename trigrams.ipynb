{
 "cells": [
  {
   "cell_type": "markdown",
   "metadata": {},
   "source": [
    "# Trigrams Analysis Notebook\n",
    "\n",
    "## Introduction\n",
    "This notebook aims to \n"
   ]
  },
  {
   "cell_type": "markdown",
   "metadata": {},
   "source": [
    "## Task 1\n",
    "This part of the notebook aims to create a third-order letter approximation model using five English works in Plain Text UTF8 format from Project Gutenberg for my module Emerging Technologies in final year. The task is outlined as follows:\n",
    "1. Selecting five texts from books I have gotten from https://www.gutenberg.org/.\n",
    "2. Cleaning the texts by removing preamble, postamble, and unnecessary characters.\n",
    "3. Converting the texts to uppercase.\n",
    "(Step 3 & 4 are to prepare the file for processing in the trigram model)\n",
    "4. Creating a trigram model by counting sequences of three consecutive characters.\n",
    "\n",
    "Trigrams are sequences of three characters, and the goal is to use trigrams to analyze the structure of the English language. Each trigram's frequency will be recorded to create a model for the English language."
   ]
  },
  {
   "cell_type": "code",
   "execution_count": 3,
   "metadata": {},
   "outputs": [
    {
     "name": "stdout",
     "output_type": "stream",
     "text": [
      "Text files have been read and are now combined.\n"
     ]
    }
   ],
   "source": [
    "# Step 1: Read the selected text files\n",
    "\n",
    "# This code is defining the file paths for the uploaded text files of each book which are inside the \"T1Files\" folder for neatness sake.\n",
    "file_paths = [\n",
    "    \"T1Files/Hamlet.txt\",\n",
    "    \"T1Files/MacBeth.txt\",\n",
    "    \"T1Files/Romeo&Juliet.txt\",\n",
    "    \"T1Files/TheValley.txt\",\n",
    "    \"T1Files/TheVoiceOfTheVoid.txt\"\n",
    "]\n",
    "\n",
    "# This code is reading each file's content and storing them in a list\n",
    "texts = []\n",
    "for file_path in file_paths:\n",
    "    with open(file_path, 'r', encoding='utf-8') as file:\n",
    "        texts.append(file.read())\n",
    "\n",
    "# This code is combining all texts into one large string for processing in the next step.\n",
    "combined_text = \" \".join(texts)\n",
    "print(\"Text files have been read and are now combined.\")\n"
   ]
  }
 ],
 "metadata": {
  "kernelspec": {
   "display_name": "Python 3",
   "language": "python",
   "name": "python3"
  },
  "language_info": {
   "codemirror_mode": {
    "name": "ipython",
    "version": 3
   },
   "file_extension": ".py",
   "mimetype": "text/x-python",
   "name": "python",
   "nbconvert_exporter": "python",
   "pygments_lexer": "ipython3",
   "version": "3.12.1"
  }
 },
 "nbformat": 4,
 "nbformat_minor": 2
}
